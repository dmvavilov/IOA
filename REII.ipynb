{
 "cells": [
  {
   "cell_type": "markdown",
   "metadata": {},
   "source": [
    "![title](wiot.jpg)"
   ]
  },
  {
   "cell_type": "markdown",
   "metadata": {},
   "source": [
    "![title](REII.jpg)"
   ]
  },
  {
   "cell_type": "code",
   "execution_count": 1,
   "metadata": {},
   "outputs": [],
   "source": [
    "import pandas as pd\n",
    "import numpy as np\n",
    "import matplotlib.pyplot as plt"
   ]
  },
  {
   "cell_type": "code",
   "execution_count": 2,
   "metadata": {},
   "outputs": [],
   "source": [
    "wiot2014 = pd.read_csv('wiot14.csv', low_memory = False)"
   ]
  },
  {
   "cell_type": "code",
   "execution_count": 3,
   "metadata": {},
   "outputs": [
    {
     "name": "stdout",
     "output_type": "stream",
     "text": [
      "(2473, 2687)\n"
     ]
    },
    {
     "data": {
      "text/html": [
       "<div>\n",
       "<style scoped>\n",
       "    .dataframe tbody tr th:only-of-type {\n",
       "        vertical-align: middle;\n",
       "    }\n",
       "\n",
       "    .dataframe tbody tr th {\n",
       "        vertical-align: top;\n",
       "    }\n",
       "\n",
       "    .dataframe thead th {\n",
       "        text-align: right;\n",
       "    }\n",
       "</style>\n",
       "<table border=\"1\" class=\"dataframe\">\n",
       "  <thead>\n",
       "    <tr style=\"text-align: right;\">\n",
       "      <th></th>\n",
       "      <th>Unnamed: 0</th>\n",
       "      <th>Unnamed: 1</th>\n",
       "      <th>AUS</th>\n",
       "      <th>AUS.1</th>\n",
       "      <th>AUS.2</th>\n",
       "      <th>AUS.3</th>\n",
       "      <th>AUS.4</th>\n",
       "      <th>AUS.5</th>\n",
       "      <th>AUS.6</th>\n",
       "      <th>AUS.7</th>\n",
       "      <th>...</th>\n",
       "      <th>USA.57</th>\n",
       "      <th>USA.58</th>\n",
       "      <th>USA.59</th>\n",
       "      <th>USA.60</th>\n",
       "      <th>ROW.56</th>\n",
       "      <th>ROW.57</th>\n",
       "      <th>ROW.58</th>\n",
       "      <th>ROW.59</th>\n",
       "      <th>ROW.60</th>\n",
       "      <th>TOT</th>\n",
       "    </tr>\n",
       "  </thead>\n",
       "  <tbody>\n",
       "    <tr>\n",
       "      <th>0</th>\n",
       "      <td>NaN</td>\n",
       "      <td>NaN</td>\n",
       "      <td>c1</td>\n",
       "      <td>c2</td>\n",
       "      <td>c3</td>\n",
       "      <td>c4</td>\n",
       "      <td>c5</td>\n",
       "      <td>c6</td>\n",
       "      <td>c7</td>\n",
       "      <td>c8</td>\n",
       "      <td>...</td>\n",
       "      <td>#REF!</td>\n",
       "      <td>#REF!</td>\n",
       "      <td>#REF!</td>\n",
       "      <td>#REF!</td>\n",
       "      <td>#REF!</td>\n",
       "      <td>#REF!</td>\n",
       "      <td>#REF!</td>\n",
       "      <td>#REF!</td>\n",
       "      <td>#REF!</td>\n",
       "      <td>c62</td>\n",
       "    </tr>\n",
       "    <tr>\n",
       "      <th>1</th>\n",
       "      <td>AUS</td>\n",
       "      <td>r1</td>\n",
       "      <td>12924.17969</td>\n",
       "      <td>112.4542209</td>\n",
       "      <td>228.480462</td>\n",
       "      <td>538.8908067</td>\n",
       "      <td>25139.33429</td>\n",
       "      <td>737.4925912</td>\n",
       "      <td>4.475429881</td>\n",
       "      <td>3.130540974</td>\n",
       "      <td>...</td>\n",
       "      <td>0</td>\n",
       "      <td>3.56539E-05</td>\n",
       "      <td>0.324914354</td>\n",
       "      <td>0.027391046</td>\n",
       "      <td>723.1899841</td>\n",
       "      <td>0.000374341</td>\n",
       "      <td>14.15634984</td>\n",
       "      <td>20.52070767</td>\n",
       "      <td>0.010083053</td>\n",
       "      <td>70292.03449</td>\n",
       "    </tr>\n",
       "    <tr>\n",
       "      <th>2</th>\n",
       "      <td>AUS</td>\n",
       "      <td>r2</td>\n",
       "      <td>83.02963718</td>\n",
       "      <td>201.4999483</td>\n",
       "      <td>0.191312931</td>\n",
       "      <td>17.19067922</td>\n",
       "      <td>2.646330705</td>\n",
       "      <td>0.09376783</td>\n",
       "      <td>1430.804904</td>\n",
       "      <td>0.36945428</td>\n",
       "      <td>...</td>\n",
       "      <td>0</td>\n",
       "      <td>1.64768E-06</td>\n",
       "      <td>0.015015318</td>\n",
       "      <td>0.000438507</td>\n",
       "      <td>0.423421659</td>\n",
       "      <td>2.92886E-06</td>\n",
       "      <td>7.05418E-05</td>\n",
       "      <td>0.000976644</td>\n",
       "      <td>-0.000109455</td>\n",
       "      <td>2585.379685</td>\n",
       "    </tr>\n",
       "    <tr>\n",
       "      <th>3</th>\n",
       "      <td>AUS</td>\n",
       "      <td>r3</td>\n",
       "      <td>19.14773092</td>\n",
       "      <td>0.001078923</td>\n",
       "      <td>19.10670051</td>\n",
       "      <td>4.228107625</td>\n",
       "      <td>316.075149</td>\n",
       "      <td>22.86668291</td>\n",
       "      <td>0.252293929</td>\n",
       "      <td>0.268537087</td>\n",
       "      <td>...</td>\n",
       "      <td>0</td>\n",
       "      <td>5.44583E-07</td>\n",
       "      <td>0.004962784</td>\n",
       "      <td>0.008311129</td>\n",
       "      <td>404.0411387</td>\n",
       "      <td>0.000386117</td>\n",
       "      <td>0.004618955</td>\n",
       "      <td>0.357977855</td>\n",
       "      <td>0.000591879</td>\n",
       "      <td>3175.044396</td>\n",
       "    </tr>\n",
       "    <tr>\n",
       "      <th>4</th>\n",
       "      <td>AUS</td>\n",
       "      <td>r4</td>\n",
       "      <td>115.929847</td>\n",
       "      <td>0.695039643</td>\n",
       "      <td>5.924476501</td>\n",
       "      <td>4492.037652</td>\n",
       "      <td>331.6093559</td>\n",
       "      <td>5.984140757</td>\n",
       "      <td>29.74092405</td>\n",
       "      <td>49.7639612</td>\n",
       "      <td>...</td>\n",
       "      <td>0</td>\n",
       "      <td>0.000176703</td>\n",
       "      <td>1.610294116</td>\n",
       "      <td>0.047026998</td>\n",
       "      <td>14.87162738</td>\n",
       "      <td>0.006664525</td>\n",
       "      <td>0.594704542</td>\n",
       "      <td>19.7268333</td>\n",
       "      <td>-0.282072196</td>\n",
       "      <td>171985.1223</td>\n",
       "    </tr>\n",
       "  </tbody>\n",
       "</table>\n",
       "<p>5 rows × 2687 columns</p>\n",
       "</div>"
      ],
      "text/plain": [
       "  Unnamed: 0 Unnamed: 1          AUS        AUS.1        AUS.2        AUS.3  \\\n",
       "0        NaN        NaN           c1           c2           c3           c4   \n",
       "1        AUS         r1  12924.17969  112.4542209   228.480462  538.8908067   \n",
       "2        AUS         r2  83.02963718  201.4999483  0.191312931  17.19067922   \n",
       "3        AUS         r3  19.14773092  0.001078923  19.10670051  4.228107625   \n",
       "4        AUS         r4   115.929847  0.695039643  5.924476501  4492.037652   \n",
       "\n",
       "         AUS.4        AUS.5        AUS.6        AUS.7  ... USA.57  \\\n",
       "0           c5           c6           c7           c8  ...  #REF!   \n",
       "1  25139.33429  737.4925912  4.475429881  3.130540974  ...      0   \n",
       "2  2.646330705   0.09376783  1430.804904   0.36945428  ...      0   \n",
       "3   316.075149  22.86668291  0.252293929  0.268537087  ...      0   \n",
       "4  331.6093559  5.984140757  29.74092405   49.7639612  ...      0   \n",
       "\n",
       "        USA.58       USA.59       USA.60       ROW.56       ROW.57  \\\n",
       "0        #REF!        #REF!        #REF!        #REF!        #REF!   \n",
       "1  3.56539E-05  0.324914354  0.027391046  723.1899841  0.000374341   \n",
       "2  1.64768E-06  0.015015318  0.000438507  0.423421659  2.92886E-06   \n",
       "3  5.44583E-07  0.004962784  0.008311129  404.0411387  0.000386117   \n",
       "4  0.000176703  1.610294116  0.047026998  14.87162738  0.006664525   \n",
       "\n",
       "        ROW.58       ROW.59        ROW.60          TOT  \n",
       "0        #REF!        #REF!         #REF!          c62  \n",
       "1  14.15634984  20.52070767   0.010083053  70292.03449  \n",
       "2  7.05418E-05  0.000976644  -0.000109455  2585.379685  \n",
       "3  0.004618955  0.357977855   0.000591879  3175.044396  \n",
       "4  0.594704542   19.7268333  -0.282072196  171985.1223  \n",
       "\n",
       "[5 rows x 2687 columns]"
      ]
     },
     "execution_count": 3,
     "metadata": {},
     "output_type": "execute_result"
    }
   ],
   "source": [
    "print(wiot2014.shape)\n",
    "wiot2014.head()"
   ]
  },
  {
   "cell_type": "code",
   "execution_count": 4,
   "metadata": {},
   "outputs": [],
   "source": [
    "# main elements of WIOT\n",
    "Z = wiot2014.iloc[1:2465, 2:2466] # intermediate use\n",
    "Z = Z.astype(np.float)\n",
    "Z.index = Z.columns\n",
    "\n",
    "VALU = wiot2014.iloc[2471, 2:2466] # value added\n",
    "VALU = VALU.astype(np.float)\n",
    "\n",
    "X = wiot2014.iloc[2472, 2:2466] # output\n",
    "X = X.astype(np.float)\n",
    "\n",
    "FD = wiot2014.iloc[2:2465, 2466:2685] # final demand\n",
    "FD = FD.astype(np.float)"
   ]
  },
  {
   "cell_type": "code",
   "execution_count": 5,
   "metadata": {},
   "outputs": [
    {
     "name": "stdout",
     "output_type": "stream",
     "text": [
      "(2464, 2464)\n",
      "(2464,)\n",
      "(2464,)\n",
      "(2463, 219)\n"
     ]
    }
   ],
   "source": [
    "print(Z.shape)\n",
    "print(VALU.shape)\n",
    "print(X.shape)\n",
    "print(FD.shape)"
   ]
  },
  {
   "cell_type": "code",
   "execution_count": 6,
   "metadata": {},
   "outputs": [],
   "source": [
    "# placeholders\n",
    "# empty_inner - ones, where c = p\n",
    "empty_inner = np.empty(shape = Z.shape)\n",
    "prev = 0\n",
    "next_ = 0\n",
    "for n in range(0, 2463, 44):\n",
    "    prev = n\n",
    "    next_ = prev + 44\n",
    "    empty_inner[prev:next_, prev:next_] = 1\n",
    "# empty_outer - ones, where c ≠ p\n",
    "empty_outer = np.ones(shape = Z.shape)\n",
    "prev = 0\n",
    "next_ = 0\n",
    "for n in range(0, 2463, 44):\n",
    "    prev = n\n",
    "    next_ = prev + 44\n",
    "    empty_outer[prev:next_, prev:next_] = 0"
   ]
  },
  {
   "cell_type": "code",
   "execution_count": 7,
   "metadata": {},
   "outputs": [
    {
     "data": {
      "text/plain": [
       "array([[1.00000000e+000, 1.00000000e+000, 1.00000000e+000, ...,\n",
       "        2.32885185e-314, 2.32885188e-314, 2.24007505e-314],\n",
       "       [1.00000000e+000, 1.00000000e+000, 1.00000000e+000, ...,\n",
       "        2.35223129e-314, 2.35223135e-314, 2.24007505e-314],\n",
       "       [1.00000000e+000, 1.00000000e+000, 1.00000000e+000, ...,\n",
       "        2.35230310e-314, 2.35230313e-314, 2.24007505e-314],\n",
       "       ...,\n",
       "       [2.72859950e-314, 2.72859953e-314, 2.72859956e-314, ...,\n",
       "        1.00000000e+000, 1.00000000e+000, 1.00000000e+000],\n",
       "       [2.24007505e-314, 2.24007505e-314, 2.24007505e-314, ...,\n",
       "        1.00000000e+000, 1.00000000e+000, 1.00000000e+000],\n",
       "       [2.72867184e-314, 2.72867187e-314, 2.72867191e-314, ...,\n",
       "        1.00000000e+000, 1.00000000e+000, 1.00000000e+000]])"
      ]
     },
     "execution_count": 7,
     "metadata": {},
     "output_type": "execute_result"
    }
   ],
   "source": [
    "empty_inner"
   ]
  },
  {
   "cell_type": "code",
   "execution_count": 8,
   "metadata": {},
   "outputs": [
    {
     "data": {
      "text/plain": [
       "array([[0., 0., 0., ..., 1., 1., 1.],\n",
       "       [0., 0., 0., ..., 1., 1., 1.],\n",
       "       [0., 0., 0., ..., 1., 1., 1.],\n",
       "       ...,\n",
       "       [1., 1., 1., ..., 0., 0., 0.],\n",
       "       [1., 1., 1., ..., 0., 0., 0.],\n",
       "       [1., 1., 1., ..., 0., 0., 0.]])"
      ]
     },
     "execution_count": 8,
     "metadata": {},
     "output_type": "execute_result"
    }
   ],
   "source": [
    "empty_outer"
   ]
  },
  {
   "cell_type": "code",
   "execution_count": 9,
   "metadata": {},
   "outputs": [
    {
     "name": "stdout",
     "output_type": "stream",
     "text": [
      "(2464,)\n"
     ]
    }
   ],
   "source": [
    "# PROD - Gross output by industry and country\n",
    "PROD = Z.sum(axis = 1)\n",
    "print(PROD.shape)"
   ]
  },
  {
   "cell_type": "code",
   "execution_count": 10,
   "metadata": {},
   "outputs": [
    {
     "name": "stdout",
     "output_type": "stream",
     "text": [
      "(2464, 2464)\n"
     ]
    }
   ],
   "source": [
    "# A - Input coefficients\n",
    "A = Z / PROD\n",
    "print(A.shape)"
   ]
  },
  {
   "cell_type": "code",
   "execution_count": 11,
   "metadata": {},
   "outputs": [],
   "source": [
    "A.replace(np.inf, 0, inplace = True) # division by zero errors\n",
    "A.replace(np.nan, 0, inplace = True) # division by zero errors"
   ]
  },
  {
   "cell_type": "code",
   "execution_count": 12,
   "metadata": {},
   "outputs": [
    {
     "name": "stdout",
     "output_type": "stream",
     "text": [
      "(2464, 2464)\n"
     ]
    }
   ],
   "source": [
    "# B - Global Leontief inverse\n",
    "B = np.linalg.inv(np.eye(Z.shape[0]) - A)\n",
    "print(B.shape)"
   ]
  },
  {
   "cell_type": "code",
   "execution_count": 13,
   "metadata": {},
   "outputs": [
    {
     "name": "stdout",
     "output_type": "stream",
     "text": [
      "(2464,)\n"
     ]
    }
   ],
   "source": [
    "# EXGR - represents a K x 1 vector of gross exports from country c to country p for all K industries, where c ≠ p.\n",
    "EXGR = (Z * empty_outer).sum(axis = 1)\n",
    "print(EXGR.shape)"
   ]
  },
  {
   "cell_type": "code",
   "execution_count": 14,
   "metadata": {},
   "outputs": [],
   "source": [
    "# REII - re-exported intermediate imports\n",
    "REII = np.dot(np.dot(A, B), EXGR)"
   ]
  },
  {
   "cell_type": "code",
   "execution_count": 15,
   "metadata": {},
   "outputs": [
    {
     "name": "stdout",
     "output_type": "stream",
     "text": [
      "REII min =  0.0 mio USD\n",
      "REII max =  2214165653.077099 mio USD\n",
      "REII mean =  30219180.827729 mio USD\n",
      "REII median =  3949721.337452318 mio USD\n"
     ]
    }
   ],
   "source": [
    "print('REII min = ', REII.min(), 'mio USD')\n",
    "print('REII max = ', REII.max(), 'mio USD')\n",
    "print('REII mean = ', REII.mean(), 'mio USD')\n",
    "print('REII median = ', np.median(REII), 'mio USD')"
   ]
  },
  {
   "cell_type": "code",
   "execution_count": 16,
   "metadata": {},
   "outputs": [
    {
     "name": "stdout",
     "output_type": "stream",
     "text": [
      "(2464,)\n"
     ]
    }
   ],
   "source": [
    "print(REII.shape)"
   ]
  },
  {
   "cell_type": "code",
   "execution_count": null,
   "metadata": {},
   "outputs": [],
   "source": []
  }
 ],
 "metadata": {
  "kernelspec": {
   "display_name": "Python 3",
   "language": "python",
   "name": "python3"
  },
  "language_info": {
   "codemirror_mode": {
    "name": "ipython",
    "version": 3
   },
   "file_extension": ".py",
   "mimetype": "text/x-python",
   "name": "python",
   "nbconvert_exporter": "python",
   "pygments_lexer": "ipython3",
   "version": "3.6.10"
  }
 },
 "nbformat": 4,
 "nbformat_minor": 4
}
